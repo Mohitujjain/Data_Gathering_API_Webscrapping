{
 "cells": [
  {
   "cell_type": "code",
   "execution_count": 1,
   "id": "04918f8e",
   "metadata": {},
   "outputs": [],
   "source": [
    "import pandas as pd\n",
    "import requests"
"https://www.youtube.com/watch?v=Gn09kCoG05A&list=PLSM7v62fgiGEA1S80Hra3BJDmD3oWKdJF"
"parsehub"
   ]
  },
  {
   "cell_type": "code",
   "execution_count": 3,
   "id": "b024da8f",
   "metadata": {},
   "outputs": [],
   "source": [
    "response = requests.get('https://api.themoviedb.org/3/movie/550?api_key=430171f264d3b7e977f32da80eaa2bba')"
   ]
  },
  {
   "cell_type": "code",
   "execution_count": 10,
   "id": "0de22c05",
   "metadata": {},
   "outputs": [],
   "source": [
    "df = pd.DataFrame(response.json()['production_companies'])[['id','name','origin_country']]"
   ]
  },
  {
   "cell_type": "code",
   "execution_count": 11,
   "id": "b4880f8f",
   "metadata": {},
   "outputs": [
    {
     "data": {
      "text/html": [
       "<div>\n",
       "<style scoped>\n",
       "    .dataframe tbody tr th:only-of-type {\n",
       "        vertical-align: middle;\n",
       "    }\n",
       "\n",
       "    .dataframe tbody tr th {\n",
       "        vertical-align: top;\n",
       "    }\n",
       "\n",
       "    .dataframe thead th {\n",
       "        text-align: right;\n",
       "    }\n",
       "</style>\n",
       "<table border=\"1\" class=\"dataframe\">\n",
       "  <thead>\n",
       "    <tr style=\"text-align: right;\">\n",
       "      <th></th>\n",
       "      <th>id</th>\n",
       "      <th>name</th>\n",
       "      <th>origin_country</th>\n",
       "    </tr>\n",
       "  </thead>\n",
       "  <tbody>\n",
       "    <tr>\n",
       "      <th>0</th>\n",
       "      <td>508</td>\n",
       "      <td>Regency Enterprises</td>\n",
       "      <td>US</td>\n",
       "    </tr>\n",
       "    <tr>\n",
       "      <th>1</th>\n",
       "      <td>711</td>\n",
       "      <td>Fox 2000 Pictures</td>\n",
       "      <td>US</td>\n",
       "    </tr>\n",
       "    <tr>\n",
       "      <th>2</th>\n",
       "      <td>20555</td>\n",
       "      <td>Taurus Film</td>\n",
       "      <td>DE</td>\n",
       "    </tr>\n",
       "    <tr>\n",
       "      <th>3</th>\n",
       "      <td>54051</td>\n",
       "      <td>Atman Entertainment</td>\n",
       "      <td></td>\n",
       "    </tr>\n",
       "    <tr>\n",
       "      <th>4</th>\n",
       "      <td>54052</td>\n",
       "      <td>Knickerbocker Films</td>\n",
       "      <td>US</td>\n",
       "    </tr>\n",
       "  </tbody>\n",
       "</table>\n",
       "</div>"
      ],
      "text/plain": [
       "      id                 name origin_country\n",
       "0    508  Regency Enterprises             US\n",
       "1    711    Fox 2000 Pictures             US\n",
       "2  20555          Taurus Film             DE\n",
       "3  54051  Atman Entertainment               \n",
       "4  54052  Knickerbocker Films             US"
      ]
     },
     "execution_count": 11,
     "metadata": {},
     "output_type": "execute_result"
    }
   ],
   "source": [
    "df.head()"
   ]
  },
  {
   "cell_type": "code",
   "execution_count": 12,
   "id": "66e81b24",
   "metadata": {},
   "outputs": [],
   "source": [
    "df.to_csv('production_company.csv')"
   ]
  },
  {
   "cell_type": "code",
   "execution_count": null,
   "id": "1bba6803",
   "metadata": {},
   "outputs": [],
   "source": []
  }
 ],
 "metadata": {
  "kernelspec": {
   "display_name": "Python 3 (ipykernel)",
   "language": "python",
   "name": "python3"
  },
  "language_info": {
   "codemirror_mode": {
    "name": "ipython",
    "version": 3
   },
   "file_extension": ".py",
   "mimetype": "text/x-python",
   "name": "python",
   "nbconvert_exporter": "python",
   "pygments_lexer": "ipython3",
   "version": "3.7.16"
  }
 },
 "nbformat": 4,
 "nbformat_minor": 5
}
